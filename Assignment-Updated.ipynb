{
 "cells": [
  {
   "cell_type": "code",
   "execution_count": 1,
   "metadata": {},
   "outputs": [],
   "source": [
    "import pandas as pd\n",
    "import numpy as np\n",
    "import seaborn as sns\n",
    "import matplotlib.pyplot as plt\n",
    "\n",
    "import warnings\n",
    "warnings.filterwarnings(\"ignore\")"
   ]
  },
  {
   "cell_type": "code",
   "execution_count": 2,
   "metadata": {},
   "outputs": [],
   "source": [
    "df_raw=pd.read_excel(r'C:\\Users\\lenovo\\Downloads\\Analytics Assignment.xlsx',sheet_name='Data',\n",
    "                     parse_dates=['eventTimestamp'])"
   ]
  },
  {
   "cell_type": "code",
   "execution_count": 3,
   "metadata": {},
   "outputs": [
    {
     "data": {
      "text/html": [
       "<div>\n",
       "<style scoped>\n",
       "    .dataframe tbody tr th:only-of-type {\n",
       "        vertical-align: middle;\n",
       "    }\n",
       "\n",
       "    .dataframe tbody tr th {\n",
       "        vertical-align: top;\n",
       "    }\n",
       "\n",
       "    .dataframe thead th {\n",
       "        text-align: right;\n",
       "    }\n",
       "</style>\n",
       "<table border=\"1\" class=\"dataframe\">\n",
       "  <thead>\n",
       "    <tr style=\"text-align: right;\">\n",
       "      <th></th>\n",
       "      <th>eventTimestamp</th>\n",
       "      <th>userID</th>\n",
       "      <th>sessionID</th>\n",
       "      <th>platform</th>\n",
       "      <th>userCountry</th>\n",
       "      <th>realCurrencyAmount</th>\n",
       "      <th>realCurrencyAmount.1</th>\n",
       "      <th>realCurrencyType</th>\n",
       "    </tr>\n",
       "  </thead>\n",
       "  <tbody>\n",
       "    <tr>\n",
       "      <td>0</td>\n",
       "      <td>2019-11-01 00:36:27.111</td>\n",
       "      <td>16707</td>\n",
       "      <td>NaN</td>\n",
       "      <td>ANDROID</td>\n",
       "      <td>NaN</td>\n",
       "      <td>1998</td>\n",
       "      <td>19.98</td>\n",
       "      <td>AUD</td>\n",
       "    </tr>\n",
       "    <tr>\n",
       "      <td>1</td>\n",
       "      <td>2019-11-01 01:37:04.019</td>\n",
       "      <td>25142</td>\n",
       "      <td>c13fd09a-cce2-419f-9f1e-533258c19d61</td>\n",
       "      <td>ANDROID</td>\n",
       "      <td>US</td>\n",
       "      <td>499</td>\n",
       "      <td>4.99</td>\n",
       "      <td>USD</td>\n",
       "    </tr>\n",
       "    <tr>\n",
       "      <td>2</td>\n",
       "      <td>2019-11-01 01:37:46.025</td>\n",
       "      <td>25142</td>\n",
       "      <td>c13fd09a-cce2-419f-9f1e-533258c19d61</td>\n",
       "      <td>ANDROID</td>\n",
       "      <td>US</td>\n",
       "      <td>499</td>\n",
       "      <td>4.99</td>\n",
       "      <td>USD</td>\n",
       "    </tr>\n",
       "    <tr>\n",
       "      <td>3</td>\n",
       "      <td>2019-11-01 02:16:25.076</td>\n",
       "      <td>101530</td>\n",
       "      <td>NaN</td>\n",
       "      <td>ANDROID</td>\n",
       "      <td>NaN</td>\n",
       "      <td>1249</td>\n",
       "      <td>12.49</td>\n",
       "      <td>USD</td>\n",
       "    </tr>\n",
       "    <tr>\n",
       "      <td>4</td>\n",
       "      <td>2019-11-01 02:58:06.726</td>\n",
       "      <td>102640</td>\n",
       "      <td>6fe2173d-923b-4590-b1a3-797904672d11</td>\n",
       "      <td>ANDROID</td>\n",
       "      <td>US</td>\n",
       "      <td>499</td>\n",
       "      <td>4.99</td>\n",
       "      <td>USD</td>\n",
       "    </tr>\n",
       "  </tbody>\n",
       "</table>\n",
       "</div>"
      ],
      "text/plain": [
       "           eventTimestamp  userID                             sessionID  \\\n",
       "0 2019-11-01 00:36:27.111   16707                                   NaN   \n",
       "1 2019-11-01 01:37:04.019   25142  c13fd09a-cce2-419f-9f1e-533258c19d61   \n",
       "2 2019-11-01 01:37:46.025   25142  c13fd09a-cce2-419f-9f1e-533258c19d61   \n",
       "3 2019-11-01 02:16:25.076  101530                                   NaN   \n",
       "4 2019-11-01 02:58:06.726  102640  6fe2173d-923b-4590-b1a3-797904672d11   \n",
       "\n",
       "  platform userCountry  realCurrencyAmount  realCurrencyAmount.1  \\\n",
       "0  ANDROID         NaN                1998                 19.98   \n",
       "1  ANDROID          US                 499                  4.99   \n",
       "2  ANDROID          US                 499                  4.99   \n",
       "3  ANDROID         NaN                1249                 12.49   \n",
       "4  ANDROID          US                 499                  4.99   \n",
       "\n",
       "  realCurrencyType  \n",
       "0              AUD  \n",
       "1              USD  \n",
       "2              USD  \n",
       "3              USD  \n",
       "4              USD  "
      ]
     },
     "execution_count": 3,
     "metadata": {},
     "output_type": "execute_result"
    }
   ],
   "source": [
    "df_raw.head()"
   ]
  },
  {
   "cell_type": "code",
   "execution_count": 4,
   "metadata": {},
   "outputs": [
    {
     "data": {
      "text/plain": [
       "eventTimestamp             0\n",
       "userID                     0\n",
       "sessionID                138\n",
       "platform                   0\n",
       "userCountry              138\n",
       "realCurrencyAmount         0\n",
       "realCurrencyAmount.1       0\n",
       "realCurrencyType        2000\n",
       "dtype: int64"
      ]
     },
     "execution_count": 4,
     "metadata": {},
     "output_type": "execute_result"
    }
   ],
   "source": [
    "df_raw.isnull().sum()"
   ]
  },
  {
   "cell_type": "code",
   "execution_count": 5,
   "metadata": {},
   "outputs": [],
   "source": [
    "g = df_raw.dropna(subset=['userCountry']).drop_duplicates('realCurrencyType').set_index('realCurrencyType')['userCountry']\n",
    "df_raw['userCountry'] = df_raw['userCountry'].fillna(df_raw['realCurrencyType'].map(g))\n",
    "\n",
    "m = df_raw.dropna(subset=['realCurrencyType']).drop_duplicates('userCountry').set_index('userCountry')['realCurrencyType']\n",
    "df_raw['realCurrencyType'] = df_raw['realCurrencyType'].fillna(df_raw['userCountry'].map(m))\n",
    "\n",
    "k = df_raw.dropna(subset=['sessionID']).drop_duplicates('userID').set_index('userID')['sessionID']\n",
    "df_raw['sessionID'] = df_raw['sessionID'].fillna(df_raw['userID'].map(k))"
   ]
  },
  {
   "cell_type": "code",
   "execution_count": 6,
   "metadata": {},
   "outputs": [
    {
     "data": {
      "text/plain": [
       "eventTimestamp           0\n",
       "userID                   0\n",
       "sessionID               81\n",
       "platform                 0\n",
       "userCountry              4\n",
       "realCurrencyAmount       0\n",
       "realCurrencyAmount.1     0\n",
       "realCurrencyType        39\n",
       "dtype: int64"
      ]
     },
     "execution_count": 6,
     "metadata": {},
     "output_type": "execute_result"
    }
   ],
   "source": [
    "df_raw.isnull().sum()"
   ]
  },
  {
   "cell_type": "code",
   "execution_count": 7,
   "metadata": {},
   "outputs": [],
   "source": [
    "df_final=df_raw.dropna()"
   ]
  },
  {
   "cell_type": "code",
   "execution_count": 8,
   "metadata": {},
   "outputs": [
    {
     "data": {
      "text/html": [
       "<div>\n",
       "<style scoped>\n",
       "    .dataframe tbody tr th:only-of-type {\n",
       "        vertical-align: middle;\n",
       "    }\n",
       "\n",
       "    .dataframe tbody tr th {\n",
       "        vertical-align: top;\n",
       "    }\n",
       "\n",
       "    .dataframe thead th {\n",
       "        text-align: right;\n",
       "    }\n",
       "</style>\n",
       "<table border=\"1\" class=\"dataframe\">\n",
       "  <thead>\n",
       "    <tr style=\"text-align: right;\">\n",
       "      <th></th>\n",
       "      <th>eventTimestamp</th>\n",
       "      <th>userID</th>\n",
       "      <th>sessionID</th>\n",
       "      <th>platform</th>\n",
       "      <th>userCountry</th>\n",
       "      <th>realCurrencyAmount</th>\n",
       "      <th>realCurrencyAmount.1</th>\n",
       "      <th>realCurrencyType</th>\n",
       "    </tr>\n",
       "  </thead>\n",
       "  <tbody>\n",
       "    <tr>\n",
       "      <td>1</td>\n",
       "      <td>2019-11-01 01:37:04.019</td>\n",
       "      <td>25142</td>\n",
       "      <td>c13fd09a-cce2-419f-9f1e-533258c19d61</td>\n",
       "      <td>ANDROID</td>\n",
       "      <td>US</td>\n",
       "      <td>499</td>\n",
       "      <td>4.99</td>\n",
       "      <td>USD</td>\n",
       "    </tr>\n",
       "    <tr>\n",
       "      <td>2</td>\n",
       "      <td>2019-11-01 01:37:46.025</td>\n",
       "      <td>25142</td>\n",
       "      <td>c13fd09a-cce2-419f-9f1e-533258c19d61</td>\n",
       "      <td>ANDROID</td>\n",
       "      <td>US</td>\n",
       "      <td>499</td>\n",
       "      <td>4.99</td>\n",
       "      <td>USD</td>\n",
       "    </tr>\n",
       "    <tr>\n",
       "      <td>4</td>\n",
       "      <td>2019-11-01 02:58:06.726</td>\n",
       "      <td>102640</td>\n",
       "      <td>6fe2173d-923b-4590-b1a3-797904672d11</td>\n",
       "      <td>ANDROID</td>\n",
       "      <td>US</td>\n",
       "      <td>499</td>\n",
       "      <td>4.99</td>\n",
       "      <td>USD</td>\n",
       "    </tr>\n",
       "    <tr>\n",
       "      <td>5</td>\n",
       "      <td>2019-11-01 03:40:29.622</td>\n",
       "      <td>102632</td>\n",
       "      <td>8767274a-1aa0-4892-afa9-a78537a9eb6c</td>\n",
       "      <td>ANDROID</td>\n",
       "      <td>DK</td>\n",
       "      <td>4200</td>\n",
       "      <td>42.00</td>\n",
       "      <td>DKK</td>\n",
       "    </tr>\n",
       "    <tr>\n",
       "      <td>6</td>\n",
       "      <td>2019-11-01 03:57:00.998</td>\n",
       "      <td>102632</td>\n",
       "      <td>8767274a-1aa0-4892-afa9-a78537a9eb6c</td>\n",
       "      <td>ANDROID</td>\n",
       "      <td>DK</td>\n",
       "      <td>8500</td>\n",
       "      <td>85.00</td>\n",
       "      <td>DKK</td>\n",
       "    </tr>\n",
       "  </tbody>\n",
       "</table>\n",
       "</div>"
      ],
      "text/plain": [
       "           eventTimestamp  userID                             sessionID  \\\n",
       "1 2019-11-01 01:37:04.019   25142  c13fd09a-cce2-419f-9f1e-533258c19d61   \n",
       "2 2019-11-01 01:37:46.025   25142  c13fd09a-cce2-419f-9f1e-533258c19d61   \n",
       "4 2019-11-01 02:58:06.726  102640  6fe2173d-923b-4590-b1a3-797904672d11   \n",
       "5 2019-11-01 03:40:29.622  102632  8767274a-1aa0-4892-afa9-a78537a9eb6c   \n",
       "6 2019-11-01 03:57:00.998  102632  8767274a-1aa0-4892-afa9-a78537a9eb6c   \n",
       "\n",
       "  platform userCountry  realCurrencyAmount  realCurrencyAmount.1  \\\n",
       "1  ANDROID          US                 499                  4.99   \n",
       "2  ANDROID          US                 499                  4.99   \n",
       "4  ANDROID          US                 499                  4.99   \n",
       "5  ANDROID          DK                4200                 42.00   \n",
       "6  ANDROID          DK                8500                 85.00   \n",
       "\n",
       "  realCurrencyType  \n",
       "1              USD  \n",
       "2              USD  \n",
       "4              USD  \n",
       "5              DKK  \n",
       "6              DKK  "
      ]
     },
     "execution_count": 8,
     "metadata": {},
     "output_type": "execute_result"
    }
   ],
   "source": [
    "df_final.head()"
   ]
  },
  {
   "cell_type": "code",
   "execution_count": 9,
   "metadata": {},
   "outputs": [],
   "source": [
    "df_final.drop(['realCurrencyAmount'],axis=1,inplace=True)\n",
    "df_final=df_final.rename(columns={'realCurrencyAmount.1':'realCurrencyAmount'})"
   ]
  },
  {
   "cell_type": "code",
   "execution_count": 10,
   "metadata": {},
   "outputs": [],
   "source": [
    "b = {'AUD':0.69, 'USD':1, 'DKK':0.15, 'CAD':0.76, 'CHF':1.02, 'EUR':1.11, \n",
    "     'GBP':1.33, 'SEK':0.11, 'RUB':0.016,'NOK':0.11, 'BRL':0.24, 'NZD':0.66, 'JPY':0.0091}\n",
    "df_final['conversion_usd'] = df_final.realCurrencyType.map(b)\n",
    "df_final['realCurrencyamount'] = df_final['realCurrencyAmount'] * df_final['conversion_usd']\n",
    "df_final.drop(['realCurrencyAmount','conversion_usd','realCurrencyType','userCountry'],axis=1,inplace=True)"
   ]
  },
  {
   "cell_type": "code",
   "execution_count": 11,
   "metadata": {},
   "outputs": [
    {
     "data": {
      "text/plain": [
       "(2880, 5)"
      ]
     },
     "execution_count": 11,
     "metadata": {},
     "output_type": "execute_result"
    }
   ],
   "source": [
    "df_final.shape"
   ]
  },
  {
   "cell_type": "code",
   "execution_count": 12,
   "metadata": {},
   "outputs": [
    {
     "data": {
      "text/html": [
       "<div>\n",
       "<style scoped>\n",
       "    .dataframe tbody tr th:only-of-type {\n",
       "        vertical-align: middle;\n",
       "    }\n",
       "\n",
       "    .dataframe tbody tr th {\n",
       "        vertical-align: top;\n",
       "    }\n",
       "\n",
       "    .dataframe thead th {\n",
       "        text-align: right;\n",
       "    }\n",
       "</style>\n",
       "<table border=\"1\" class=\"dataframe\">\n",
       "  <thead>\n",
       "    <tr style=\"text-align: right;\">\n",
       "      <th></th>\n",
       "      <th>eventTimestamp</th>\n",
       "      <th>userID</th>\n",
       "      <th>sessionID</th>\n",
       "      <th>platform</th>\n",
       "      <th>realCurrencyamount</th>\n",
       "    </tr>\n",
       "  </thead>\n",
       "  <tbody>\n",
       "    <tr>\n",
       "      <td>1</td>\n",
       "      <td>2019-11-01 01:37:04.019</td>\n",
       "      <td>25142</td>\n",
       "      <td>c13fd09a-cce2-419f-9f1e-533258c19d61</td>\n",
       "      <td>ANDROID</td>\n",
       "      <td>4.99</td>\n",
       "    </tr>\n",
       "    <tr>\n",
       "      <td>2</td>\n",
       "      <td>2019-11-01 01:37:46.025</td>\n",
       "      <td>25142</td>\n",
       "      <td>c13fd09a-cce2-419f-9f1e-533258c19d61</td>\n",
       "      <td>ANDROID</td>\n",
       "      <td>4.99</td>\n",
       "    </tr>\n",
       "    <tr>\n",
       "      <td>4</td>\n",
       "      <td>2019-11-01 02:58:06.726</td>\n",
       "      <td>102640</td>\n",
       "      <td>6fe2173d-923b-4590-b1a3-797904672d11</td>\n",
       "      <td>ANDROID</td>\n",
       "      <td>4.99</td>\n",
       "    </tr>\n",
       "    <tr>\n",
       "      <td>5</td>\n",
       "      <td>2019-11-01 03:40:29.622</td>\n",
       "      <td>102632</td>\n",
       "      <td>8767274a-1aa0-4892-afa9-a78537a9eb6c</td>\n",
       "      <td>ANDROID</td>\n",
       "      <td>6.30</td>\n",
       "    </tr>\n",
       "    <tr>\n",
       "      <td>6</td>\n",
       "      <td>2019-11-01 03:57:00.998</td>\n",
       "      <td>102632</td>\n",
       "      <td>8767274a-1aa0-4892-afa9-a78537a9eb6c</td>\n",
       "      <td>ANDROID</td>\n",
       "      <td>12.75</td>\n",
       "    </tr>\n",
       "  </tbody>\n",
       "</table>\n",
       "</div>"
      ],
      "text/plain": [
       "           eventTimestamp  userID                             sessionID  \\\n",
       "1 2019-11-01 01:37:04.019   25142  c13fd09a-cce2-419f-9f1e-533258c19d61   \n",
       "2 2019-11-01 01:37:46.025   25142  c13fd09a-cce2-419f-9f1e-533258c19d61   \n",
       "4 2019-11-01 02:58:06.726  102640  6fe2173d-923b-4590-b1a3-797904672d11   \n",
       "5 2019-11-01 03:40:29.622  102632  8767274a-1aa0-4892-afa9-a78537a9eb6c   \n",
       "6 2019-11-01 03:57:00.998  102632  8767274a-1aa0-4892-afa9-a78537a9eb6c   \n",
       "\n",
       "  platform  realCurrencyamount  \n",
       "1  ANDROID                4.99  \n",
       "2  ANDROID                4.99  \n",
       "4  ANDROID                4.99  \n",
       "5  ANDROID                6.30  \n",
       "6  ANDROID               12.75  "
      ]
     },
     "execution_count": 12,
     "metadata": {},
     "output_type": "execute_result"
    }
   ],
   "source": [
    "df_final.head()"
   ]
  },
  {
   "cell_type": "code",
   "execution_count": 13,
   "metadata": {},
   "outputs": [
    {
     "data": {
      "text/plain": [
       "eventTimestamp        datetime64[ns]\n",
       "userID                         int64\n",
       "sessionID                     object\n",
       "platform                      object\n",
       "realCurrencyamount           float64\n",
       "dtype: object"
      ]
     },
     "execution_count": 13,
     "metadata": {},
     "output_type": "execute_result"
    }
   ],
   "source": [
    "df_final.dtypes"
   ]
  },
  {
   "cell_type": "code",
   "execution_count": 14,
   "metadata": {},
   "outputs": [
    {
     "data": {
      "text/html": [
       "<div>\n",
       "<style scoped>\n",
       "    .dataframe tbody tr th:only-of-type {\n",
       "        vertical-align: middle;\n",
       "    }\n",
       "\n",
       "    .dataframe tbody tr th {\n",
       "        vertical-align: top;\n",
       "    }\n",
       "\n",
       "    .dataframe thead th {\n",
       "        text-align: right;\n",
       "    }\n",
       "</style>\n",
       "<table border=\"1\" class=\"dataframe\">\n",
       "  <thead>\n",
       "    <tr style=\"text-align: right;\">\n",
       "      <th></th>\n",
       "      <th>eventTimestamp</th>\n",
       "      <th>userID</th>\n",
       "      <th>sessionID</th>\n",
       "      <th>platform</th>\n",
       "      <th>realCurrencyamount</th>\n",
       "    </tr>\n",
       "  </thead>\n",
       "  <tbody>\n",
       "    <tr>\n",
       "      <td>1</td>\n",
       "      <td>2019-11-01 01:37:04.019</td>\n",
       "      <td>25142</td>\n",
       "      <td>c13fd09a-cce2-419f-9f1e-533258c19d61</td>\n",
       "      <td>ANDROID</td>\n",
       "      <td>4.99</td>\n",
       "    </tr>\n",
       "    <tr>\n",
       "      <td>2</td>\n",
       "      <td>2019-11-01 01:37:46.025</td>\n",
       "      <td>25142</td>\n",
       "      <td>c13fd09a-cce2-419f-9f1e-533258c19d61</td>\n",
       "      <td>ANDROID</td>\n",
       "      <td>4.99</td>\n",
       "    </tr>\n",
       "    <tr>\n",
       "      <td>4</td>\n",
       "      <td>2019-11-01 02:58:06.726</td>\n",
       "      <td>102640</td>\n",
       "      <td>6fe2173d-923b-4590-b1a3-797904672d11</td>\n",
       "      <td>ANDROID</td>\n",
       "      <td>4.99</td>\n",
       "    </tr>\n",
       "    <tr>\n",
       "      <td>5</td>\n",
       "      <td>2019-11-01 03:40:29.622</td>\n",
       "      <td>102632</td>\n",
       "      <td>8767274a-1aa0-4892-afa9-a78537a9eb6c</td>\n",
       "      <td>ANDROID</td>\n",
       "      <td>6.30</td>\n",
       "    </tr>\n",
       "    <tr>\n",
       "      <td>6</td>\n",
       "      <td>2019-11-01 03:57:00.998</td>\n",
       "      <td>102632</td>\n",
       "      <td>8767274a-1aa0-4892-afa9-a78537a9eb6c</td>\n",
       "      <td>ANDROID</td>\n",
       "      <td>12.75</td>\n",
       "    </tr>\n",
       "  </tbody>\n",
       "</table>\n",
       "</div>"
      ],
      "text/plain": [
       "           eventTimestamp  userID                             sessionID  \\\n",
       "1 2019-11-01 01:37:04.019   25142  c13fd09a-cce2-419f-9f1e-533258c19d61   \n",
       "2 2019-11-01 01:37:46.025   25142  c13fd09a-cce2-419f-9f1e-533258c19d61   \n",
       "4 2019-11-01 02:58:06.726  102640  6fe2173d-923b-4590-b1a3-797904672d11   \n",
       "5 2019-11-01 03:40:29.622  102632  8767274a-1aa0-4892-afa9-a78537a9eb6c   \n",
       "6 2019-11-01 03:57:00.998  102632  8767274a-1aa0-4892-afa9-a78537a9eb6c   \n",
       "\n",
       "  platform  realCurrencyamount  \n",
       "1  ANDROID                4.99  \n",
       "2  ANDROID                4.99  \n",
       "4  ANDROID                4.99  \n",
       "5  ANDROID                6.30  \n",
       "6  ANDROID               12.75  "
      ]
     },
     "execution_count": 14,
     "metadata": {},
     "output_type": "execute_result"
    }
   ],
   "source": [
    "df_final.head()"
   ]
  },
  {
   "cell_type": "code",
   "execution_count": 15,
   "metadata": {},
   "outputs": [],
   "source": [
    "df_final['Login_Date'] = df_final['eventTimestamp'].dt.date"
   ]
  },
  {
   "cell_type": "code",
   "execution_count": 16,
   "metadata": {},
   "outputs": [],
   "source": [
    "df_final['Sessions']=df_final['sessionID'].map(df_final.sessionID.value_counts())"
   ]
  },
  {
   "cell_type": "code",
   "execution_count": 17,
   "metadata": {},
   "outputs": [
    {
     "data": {
      "text/html": [
       "<div>\n",
       "<style scoped>\n",
       "    .dataframe tbody tr th:only-of-type {\n",
       "        vertical-align: middle;\n",
       "    }\n",
       "\n",
       "    .dataframe tbody tr th {\n",
       "        vertical-align: top;\n",
       "    }\n",
       "\n",
       "    .dataframe thead th {\n",
       "        text-align: right;\n",
       "    }\n",
       "</style>\n",
       "<table border=\"1\" class=\"dataframe\">\n",
       "  <thead>\n",
       "    <tr style=\"text-align: right;\">\n",
       "      <th></th>\n",
       "      <th>eventTimestamp</th>\n",
       "      <th>userID</th>\n",
       "      <th>sessionID</th>\n",
       "      <th>platform</th>\n",
       "      <th>realCurrencyamount</th>\n",
       "      <th>Login_Date</th>\n",
       "      <th>Sessions</th>\n",
       "    </tr>\n",
       "  </thead>\n",
       "  <tbody>\n",
       "    <tr>\n",
       "      <td>1</td>\n",
       "      <td>2019-11-01 01:37:04.019</td>\n",
       "      <td>25142</td>\n",
       "      <td>c13fd09a-cce2-419f-9f1e-533258c19d61</td>\n",
       "      <td>ANDROID</td>\n",
       "      <td>4.99</td>\n",
       "      <td>2019-11-01</td>\n",
       "      <td>2</td>\n",
       "    </tr>\n",
       "    <tr>\n",
       "      <td>2</td>\n",
       "      <td>2019-11-01 01:37:46.025</td>\n",
       "      <td>25142</td>\n",
       "      <td>c13fd09a-cce2-419f-9f1e-533258c19d61</td>\n",
       "      <td>ANDROID</td>\n",
       "      <td>4.99</td>\n",
       "      <td>2019-11-01</td>\n",
       "      <td>2</td>\n",
       "    </tr>\n",
       "    <tr>\n",
       "      <td>4</td>\n",
       "      <td>2019-11-01 02:58:06.726</td>\n",
       "      <td>102640</td>\n",
       "      <td>6fe2173d-923b-4590-b1a3-797904672d11</td>\n",
       "      <td>ANDROID</td>\n",
       "      <td>4.99</td>\n",
       "      <td>2019-11-01</td>\n",
       "      <td>1</td>\n",
       "    </tr>\n",
       "    <tr>\n",
       "      <td>5</td>\n",
       "      <td>2019-11-01 03:40:29.622</td>\n",
       "      <td>102632</td>\n",
       "      <td>8767274a-1aa0-4892-afa9-a78537a9eb6c</td>\n",
       "      <td>ANDROID</td>\n",
       "      <td>6.30</td>\n",
       "      <td>2019-11-01</td>\n",
       "      <td>2</td>\n",
       "    </tr>\n",
       "    <tr>\n",
       "      <td>6</td>\n",
       "      <td>2019-11-01 03:57:00.998</td>\n",
       "      <td>102632</td>\n",
       "      <td>8767274a-1aa0-4892-afa9-a78537a9eb6c</td>\n",
       "      <td>ANDROID</td>\n",
       "      <td>12.75</td>\n",
       "      <td>2019-11-01</td>\n",
       "      <td>2</td>\n",
       "    </tr>\n",
       "  </tbody>\n",
       "</table>\n",
       "</div>"
      ],
      "text/plain": [
       "           eventTimestamp  userID                             sessionID  \\\n",
       "1 2019-11-01 01:37:04.019   25142  c13fd09a-cce2-419f-9f1e-533258c19d61   \n",
       "2 2019-11-01 01:37:46.025   25142  c13fd09a-cce2-419f-9f1e-533258c19d61   \n",
       "4 2019-11-01 02:58:06.726  102640  6fe2173d-923b-4590-b1a3-797904672d11   \n",
       "5 2019-11-01 03:40:29.622  102632  8767274a-1aa0-4892-afa9-a78537a9eb6c   \n",
       "6 2019-11-01 03:57:00.998  102632  8767274a-1aa0-4892-afa9-a78537a9eb6c   \n",
       "\n",
       "  platform  realCurrencyamount  Login_Date  Sessions  \n",
       "1  ANDROID                4.99  2019-11-01         2  \n",
       "2  ANDROID                4.99  2019-11-01         2  \n",
       "4  ANDROID                4.99  2019-11-01         1  \n",
       "5  ANDROID                6.30  2019-11-01         2  \n",
       "6  ANDROID               12.75  2019-11-01         2  "
      ]
     },
     "execution_count": 17,
     "metadata": {},
     "output_type": "execute_result"
    }
   ],
   "source": [
    "df_final.head()"
   ]
  },
  {
   "cell_type": "code",
   "execution_count": 18,
   "metadata": {},
   "outputs": [
    {
     "data": {
      "text/plain": [
       "(286, 157, 443)"
      ]
     },
     "execution_count": 18,
     "metadata": {},
     "output_type": "execute_result"
    }
   ],
   "source": [
    "#Total users in the game\n",
    "Android_users=len(df_final[df_final['platform']=='ANDROID'].userID.value_counts())\n",
    "Ios_users=len(df_final[df_final['platform']=='IOS'].userID.value_counts())\n",
    "Both_platform=len(df_final.userID.value_counts())\n",
    "Android_users , Ios_users , Both_platform"
   ]
  },
  {
   "cell_type": "code",
   "execution_count": 49,
   "metadata": {},
   "outputs": [
    {
     "data": {
      "text/plain": [
       "(1.9125874125874125, 2.3630573248407645, 2.072234762979684)"
      ]
     },
     "execution_count": 49,
     "metadata": {},
     "output_type": "execute_result"
    }
   ],
   "source": [
    "#Average Sessions Per User\n",
    "Android_users=df_final[df_final['platform']=='ANDROID'].dropna(subset=['Sessions']).drop_duplicates('userID').set_index('userID')['Sessions'].sum()\n",
    "Ios_users=df_final[df_final['platform']=='IOS'].dropna(subset=['Sessions']).drop_duplicates('userID').set_index('userID')['Sessions'].sum()\n",
    "Both_platform=df_final.dropna(subset=['Sessions']).drop_duplicates('userID').set_index('userID')['Sessions'].sum()\n",
    "Android_users/286 , Ios_users/157 , Both_platform/443"
   ]
  },
  {
   "cell_type": "code",
   "execution_count": 20,
   "metadata": {},
   "outputs": [
    {
     "data": {
      "text/html": [
       "<div>\n",
       "<style scoped>\n",
       "    .dataframe tbody tr th:only-of-type {\n",
       "        vertical-align: middle;\n",
       "    }\n",
       "\n",
       "    .dataframe tbody tr th {\n",
       "        vertical-align: top;\n",
       "    }\n",
       "\n",
       "    .dataframe thead th {\n",
       "        text-align: right;\n",
       "    }\n",
       "</style>\n",
       "<table border=\"1\" class=\"dataframe\">\n",
       "  <thead>\n",
       "    <tr style=\"text-align: right;\">\n",
       "      <th></th>\n",
       "      <th>userID</th>\n",
       "      <th>realCurrencyamount</th>\n",
       "      <th>Sessions</th>\n",
       "    </tr>\n",
       "  </thead>\n",
       "  <tbody>\n",
       "    <tr>\n",
       "      <td>117</td>\n",
       "      <td>104340</td>\n",
       "      <td>549.78</td>\n",
       "      <td>64</td>\n",
       "    </tr>\n",
       "  </tbody>\n",
       "</table>\n",
       "</div>"
      ],
      "text/plain": [
       "     userID  realCurrencyamount  Sessions\n",
       "117  104340              549.78        64"
      ]
     },
     "execution_count": 20,
     "metadata": {},
     "output_type": "execute_result"
    }
   ],
   "source": [
    "#Maximum revenue earned by a user (Andoid)\n",
    "df_final[df_final['platform']=='ANDROID'].groupby('userID', \n",
    "as_index=False).sum().sort_values(['realCurrencyamount'],ascending=False).iloc[:1]"
   ]
  },
  {
   "cell_type": "code",
   "execution_count": 21,
   "metadata": {},
   "outputs": [
    {
     "data": {
      "text/html": [
       "<div>\n",
       "<style scoped>\n",
       "    .dataframe tbody tr th:only-of-type {\n",
       "        vertical-align: middle;\n",
       "    }\n",
       "\n",
       "    .dataframe tbody tr th {\n",
       "        vertical-align: top;\n",
       "    }\n",
       "\n",
       "    .dataframe thead th {\n",
       "        text-align: right;\n",
       "    }\n",
       "</style>\n",
       "<table border=\"1\" class=\"dataframe\">\n",
       "  <thead>\n",
       "    <tr style=\"text-align: right;\">\n",
       "      <th></th>\n",
       "      <th>userID</th>\n",
       "      <th>realCurrencyamount</th>\n",
       "      <th>Sessions</th>\n",
       "    </tr>\n",
       "  </thead>\n",
       "  <tbody>\n",
       "    <tr>\n",
       "      <td>37</td>\n",
       "      <td>105744</td>\n",
       "      <td>255.15</td>\n",
       "      <td>35</td>\n",
       "    </tr>\n",
       "  </tbody>\n",
       "</table>\n",
       "</div>"
      ],
      "text/plain": [
       "    userID  realCurrencyamount  Sessions\n",
       "37  105744              255.15        35"
      ]
     },
     "execution_count": 21,
     "metadata": {},
     "output_type": "execute_result"
    }
   ],
   "source": [
    "#Maximum revenue earned by a user (Ios)\n",
    "df_final[df_final['platform']=='IOS'].groupby('userID', \n",
    "as_index=False).sum().sort_values(['realCurrencyamount'],ascending=False).iloc[:1]"
   ]
  },
  {
   "cell_type": "code",
   "execution_count": 22,
   "metadata": {},
   "outputs": [
    {
     "data": {
      "text/plain": [
       "Login_Date\n",
       "2019-11-01    10.547204\n",
       "2019-11-02     7.691704\n",
       "2019-11-03     7.526865\n",
       "2019-11-04     8.670327\n",
       "2019-11-05     9.182542\n",
       "2019-11-06     8.234968\n",
       "2019-11-07     7.822949\n",
       "2019-11-08     9.695145\n",
       "2019-11-09     8.973476\n",
       "2019-11-10     9.474611\n",
       "2019-11-11    10.727767\n",
       "2019-11-12     8.581247\n",
       "2019-11-13     9.031914\n",
       "2019-11-14     9.294653\n",
       "2019-11-15     8.736048\n",
       "2019-11-16    10.698827\n",
       "2019-11-17    12.750894\n",
       "2019-11-18    11.151356\n",
       "2019-11-19     8.727012\n",
       "2019-11-20     9.420680\n",
       "2019-11-21    10.948627\n",
       "2019-11-22     3.303643\n",
       "2019-11-23     5.190766\n",
       "2019-11-24     5.835477\n",
       "2019-11-25     4.649870\n",
       "2019-11-26     5.727598\n",
       "2019-11-27     7.679836\n",
       "2019-11-28     7.158389\n",
       "2019-11-29     9.805186\n",
       "2019-11-30     8.270471\n",
       "dtype: float64"
      ]
     },
     "execution_count": 22,
     "metadata": {},
     "output_type": "execute_result"
    }
   ],
   "source": [
    "#ARPDAU(Average Revenue Per Daily Active User)\n",
    "df_final.pivot_table('realCurrencyamount','userID','Login_Date',aggfunc='mean').mean()"
   ]
  },
  {
   "cell_type": "code",
   "execution_count": 23,
   "metadata": {},
   "outputs": [],
   "source": [
    "#Daily Active Users\n",
    "df_active=df_final[['userID','platform']]\n",
    "df_active['Date']=df_raw['eventTimestamp'].dt.day\n",
    "df_active['Active']=np.where(df_active['Date']>0,1,0)\n",
    "df_active.drop(['Date'],axis=1,inplace=True)"
   ]
  },
  {
   "cell_type": "code",
   "execution_count": 24,
   "metadata": {},
   "outputs": [
    {
     "data": {
      "text/html": [
       "<div>\n",
       "<style scoped>\n",
       "    .dataframe tbody tr th:only-of-type {\n",
       "        vertical-align: middle;\n",
       "    }\n",
       "\n",
       "    .dataframe tbody tr th {\n",
       "        vertical-align: top;\n",
       "    }\n",
       "\n",
       "    .dataframe thead th {\n",
       "        text-align: right;\n",
       "    }\n",
       "</style>\n",
       "<table border=\"1\" class=\"dataframe\">\n",
       "  <thead>\n",
       "    <tr style=\"text-align: right;\">\n",
       "      <th></th>\n",
       "      <th>userID</th>\n",
       "      <th>Active</th>\n",
       "    </tr>\n",
       "  </thead>\n",
       "  <tbody>\n",
       "    <tr>\n",
       "      <td>239</td>\n",
       "      <td>110014</td>\n",
       "      <td>206</td>\n",
       "    </tr>\n",
       "    <tr>\n",
       "      <td>245</td>\n",
       "      <td>110257</td>\n",
       "      <td>89</td>\n",
       "    </tr>\n",
       "    <tr>\n",
       "      <td>243</td>\n",
       "      <td>110234</td>\n",
       "      <td>51</td>\n",
       "    </tr>\n",
       "    <tr>\n",
       "      <td>250</td>\n",
       "      <td>110333</td>\n",
       "      <td>45</td>\n",
       "    </tr>\n",
       "    <tr>\n",
       "      <td>251</td>\n",
       "      <td>110359</td>\n",
       "      <td>32</td>\n",
       "    </tr>\n",
       "  </tbody>\n",
       "</table>\n",
       "</div>"
      ],
      "text/plain": [
       "     userID  Active\n",
       "239  110014     206\n",
       "245  110257      89\n",
       "243  110234      51\n",
       "250  110333      45\n",
       "251  110359      32"
      ]
     },
     "execution_count": 24,
     "metadata": {},
     "output_type": "execute_result"
    }
   ],
   "source": [
    "df_active[df_active['platform']=='ANDROID'].groupby('userID', as_index=False).sum().sort_values(['Active'],ascending=False).iloc[:5]"
   ]
  },
  {
   "cell_type": "code",
   "execution_count": 25,
   "metadata": {},
   "outputs": [
    {
     "data": {
      "text/html": [
       "<div>\n",
       "<style scoped>\n",
       "    .dataframe tbody tr th:only-of-type {\n",
       "        vertical-align: middle;\n",
       "    }\n",
       "\n",
       "    .dataframe tbody tr th {\n",
       "        vertical-align: top;\n",
       "    }\n",
       "\n",
       "    .dataframe thead th {\n",
       "        text-align: right;\n",
       "    }\n",
       "</style>\n",
       "<table border=\"1\" class=\"dataframe\">\n",
       "  <thead>\n",
       "    <tr style=\"text-align: right;\">\n",
       "      <th></th>\n",
       "      <th>userID</th>\n",
       "      <th>Active</th>\n",
       "    </tr>\n",
       "  </thead>\n",
       "  <tbody>\n",
       "    <tr>\n",
       "      <td>1</td>\n",
       "      <td>20057</td>\n",
       "      <td>328</td>\n",
       "    </tr>\n",
       "    <tr>\n",
       "      <td>99</td>\n",
       "      <td>110210</td>\n",
       "      <td>210</td>\n",
       "    </tr>\n",
       "    <tr>\n",
       "      <td>88</td>\n",
       "      <td>110062</td>\n",
       "      <td>202</td>\n",
       "    </tr>\n",
       "    <tr>\n",
       "      <td>104</td>\n",
       "      <td>110256</td>\n",
       "      <td>119</td>\n",
       "    </tr>\n",
       "    <tr>\n",
       "      <td>115</td>\n",
       "      <td>110705</td>\n",
       "      <td>102</td>\n",
       "    </tr>\n",
       "  </tbody>\n",
       "</table>\n",
       "</div>"
      ],
      "text/plain": [
       "     userID  Active\n",
       "1     20057     328\n",
       "99   110210     210\n",
       "88   110062     202\n",
       "104  110256     119\n",
       "115  110705     102"
      ]
     },
     "execution_count": 25,
     "metadata": {},
     "output_type": "execute_result"
    }
   ],
   "source": [
    "df_active[df_active['platform']=='IOS'].groupby('userID', as_index=False).sum().sort_values(['Active'],ascending=False).iloc[:5]"
   ]
  },
  {
   "cell_type": "code",
   "execution_count": 52,
   "metadata": {},
   "outputs": [],
   "source": [
    "#np.count_nonzero(pd.crosstab(df_final.userID,df_final.Login_Date),axis=1)"
   ]
  },
  {
   "cell_type": "code",
   "execution_count": 65,
   "metadata": {},
   "outputs": [
    {
     "data": {
      "text/html": [
       "<div>\n",
       "<style scoped>\n",
       "    .dataframe tbody tr th:only-of-type {\n",
       "        vertical-align: middle;\n",
       "    }\n",
       "\n",
       "    .dataframe tbody tr th {\n",
       "        vertical-align: top;\n",
       "    }\n",
       "\n",
       "    .dataframe thead th {\n",
       "        text-align: right;\n",
       "    }\n",
       "</style>\n",
       "<table border=\"1\" class=\"dataframe\">\n",
       "  <thead>\n",
       "    <tr style=\"text-align: right;\">\n",
       "      <th></th>\n",
       "      <th>userID</th>\n",
       "      <th>Sessions</th>\n",
       "      <th>LoginDate</th>\n",
       "    </tr>\n",
       "  </thead>\n",
       "  <tbody>\n",
       "    <tr>\n",
       "      <td>1</td>\n",
       "      <td>25142</td>\n",
       "      <td>2</td>\n",
       "      <td>2019-11-01</td>\n",
       "    </tr>\n",
       "    <tr>\n",
       "      <td>2</td>\n",
       "      <td>25142</td>\n",
       "      <td>2</td>\n",
       "      <td>2019-11-01</td>\n",
       "    </tr>\n",
       "    <tr>\n",
       "      <td>4</td>\n",
       "      <td>102640</td>\n",
       "      <td>1</td>\n",
       "      <td>2019-11-01</td>\n",
       "    </tr>\n",
       "    <tr>\n",
       "      <td>5</td>\n",
       "      <td>102632</td>\n",
       "      <td>2</td>\n",
       "      <td>2019-11-01</td>\n",
       "    </tr>\n",
       "    <tr>\n",
       "      <td>6</td>\n",
       "      <td>102632</td>\n",
       "      <td>2</td>\n",
       "      <td>2019-11-01</td>\n",
       "    </tr>\n",
       "  </tbody>\n",
       "</table>\n",
       "</div>"
      ],
      "text/plain": [
       "   userID  Sessions   LoginDate\n",
       "1   25142         2  2019-11-01\n",
       "2   25142         2  2019-11-01\n",
       "4  102640         1  2019-11-01\n",
       "5  102632         2  2019-11-01\n",
       "6  102632         2  2019-11-01"
      ]
     },
     "execution_count": 65,
     "metadata": {},
     "output_type": "execute_result"
    }
   ],
   "source": [
    "#Finding Retention\n",
    "df_ret=df_final[['userID','Sessions']]\n",
    "df_ret['LoginDate']=df_final['eventTimestamp'].dt.date\n",
    "\n",
    "df_ret.head()"
   ]
  },
  {
   "cell_type": "code",
   "execution_count": 66,
   "metadata": {},
   "outputs": [
    {
     "data": {
      "text/html": [
       "<div>\n",
       "<style scoped>\n",
       "    .dataframe tbody tr th:only-of-type {\n",
       "        vertical-align: middle;\n",
       "    }\n",
       "\n",
       "    .dataframe tbody tr th {\n",
       "        vertical-align: top;\n",
       "    }\n",
       "\n",
       "    .dataframe thead th {\n",
       "        text-align: right;\n",
       "    }\n",
       "</style>\n",
       "<table border=\"1\" class=\"dataframe\">\n",
       "  <thead>\n",
       "    <tr style=\"text-align: right;\">\n",
       "      <th></th>\n",
       "      <th>LoginDate</th>\n",
       "      <th>Sessions</th>\n",
       "      <th>userID</th>\n",
       "    </tr>\n",
       "  </thead>\n",
       "  <tbody>\n",
       "    <tr>\n",
       "      <td>0</td>\n",
       "      <td>2019-11-01</td>\n",
       "      <td>1</td>\n",
       "      <td>21</td>\n",
       "    </tr>\n",
       "    <tr>\n",
       "      <td>1</td>\n",
       "      <td>2019-11-01</td>\n",
       "      <td>2</td>\n",
       "      <td>19</td>\n",
       "    </tr>\n",
       "    <tr>\n",
       "      <td>2</td>\n",
       "      <td>2019-11-01</td>\n",
       "      <td>3</td>\n",
       "      <td>5</td>\n",
       "    </tr>\n",
       "    <tr>\n",
       "      <td>3</td>\n",
       "      <td>2019-11-01</td>\n",
       "      <td>4</td>\n",
       "      <td>7</td>\n",
       "    </tr>\n",
       "    <tr>\n",
       "      <td>4</td>\n",
       "      <td>2019-11-01</td>\n",
       "      <td>5</td>\n",
       "      <td>5</td>\n",
       "    </tr>\n",
       "    <tr>\n",
       "      <td>...</td>\n",
       "      <td>...</td>\n",
       "      <td>...</td>\n",
       "      <td>...</td>\n",
       "    </tr>\n",
       "    <tr>\n",
       "      <td>209</td>\n",
       "      <td>2019-11-30</td>\n",
       "      <td>1</td>\n",
       "      <td>38</td>\n",
       "    </tr>\n",
       "    <tr>\n",
       "      <td>210</td>\n",
       "      <td>2019-11-30</td>\n",
       "      <td>2</td>\n",
       "      <td>11</td>\n",
       "    </tr>\n",
       "    <tr>\n",
       "      <td>211</td>\n",
       "      <td>2019-11-30</td>\n",
       "      <td>4</td>\n",
       "      <td>4</td>\n",
       "    </tr>\n",
       "    <tr>\n",
       "      <td>212</td>\n",
       "      <td>2019-11-30</td>\n",
       "      <td>6</td>\n",
       "      <td>12</td>\n",
       "    </tr>\n",
       "    <tr>\n",
       "      <td>213</td>\n",
       "      <td>2019-11-30</td>\n",
       "      <td>9</td>\n",
       "      <td>18</td>\n",
       "    </tr>\n",
       "  </tbody>\n",
       "</table>\n",
       "<p>214 rows × 3 columns</p>\n",
       "</div>"
      ],
      "text/plain": [
       "      LoginDate  Sessions  userID\n",
       "0    2019-11-01         1      21\n",
       "1    2019-11-01         2      19\n",
       "2    2019-11-01         3       5\n",
       "3    2019-11-01         4       7\n",
       "4    2019-11-01         5       5\n",
       "..          ...       ...     ...\n",
       "209  2019-11-30         1      38\n",
       "210  2019-11-30         2      11\n",
       "211  2019-11-30         4       4\n",
       "212  2019-11-30         6      12\n",
       "213  2019-11-30         9      18\n",
       "\n",
       "[214 rows x 3 columns]"
      ]
     },
     "execution_count": 66,
     "metadata": {},
     "output_type": "execute_result"
    }
   ],
   "source": [
    "group = df_ret.groupby(['LoginDate', 'Sessions'])\n",
    "cohort_data = group['userID'].size()\n",
    "cohort_data = cohort_data.reset_index()\n",
    "cohort_data"
   ]
  },
  {
   "cell_type": "code",
   "execution_count": 73,
   "metadata": {},
   "outputs": [],
   "source": [
    "cohort_counts = cohort_data.pivot(index='LoginDate', columns='Sessions', values='userID')\n",
    "base = cohort_counts[1]\n",
    "retention = cohort_counts.divide(base, axis=0).round(3)\n",
    "retention=cohort_counts.divide(base,axis=0).round(3)"
   ]
  },
  {
   "cell_type": "code",
   "execution_count": 74,
   "metadata": {},
   "outputs": [
    {
     "data": {
      "image/png": "[encoded data removed]",
      "text/plain": [
       "<Figure size 1296x1008 with 2 Axes>"
      ]
     },
     "metadata": {
      "needs_background": "light"
     },
     "output_type": "display_data"
    }
   ],
   "source": [
    "plt.figure(figsize=(18,14))\n",
    "plt.title('Users Active')\n",
    "ax = sns.heatmap(data=cohort_counts, annot=True, vmin=0.0,cmap='Reds')\n",
    "ax.set_yticklabels(cohort_counts.index)\n",
    "fig=ax.get_figure()\n",
    "fig.savefig(\"Retention Counts.png\")\n",
    "plt.show()"
   ]
  },
  {
   "cell_type": "code",
   "execution_count": null,
   "metadata": {},
   "outputs": [],
   "source": []
  }
 ],
 "metadata": {
  "kernelspec": {
   "display_name": "Python 3",
   "language": "python",
   "name": "python3"
  },
  "language_info": {
   "codemirror_mode": {
    "name": "ipython",
    "version": 3
   },
   "file_extension": ".py",
   "mimetype": "text/x-python",
   "name": "python",
   "nbconvert_exporter": "python",
   "pygments_lexer": "ipython3",
   "version": "3.7.4"
  }
 },
 "nbformat": 4,
 "nbformat_minor": 2
}
